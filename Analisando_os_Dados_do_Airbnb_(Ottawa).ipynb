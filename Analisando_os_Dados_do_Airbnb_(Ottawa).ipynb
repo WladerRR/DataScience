{
  "nbformat": 4,
  "nbformat_minor": 0,
  "metadata": {
    "colab": {
      "name": " Analisando os Dados do Airbnb (Ottawa).ipynb",
      "provenance": [],
      "collapsed_sections": [],
      "toc_visible": true,
      "include_colab_link": true
    },
    "kernelspec": {
      "name": "python3",
      "display_name": "Python 3"
    }
  },
  "cells": [
    {
      "cell_type": "markdown",
      "metadata": {
        "id": "view-in-github",
        "colab_type": "text"
      },
      "source": [
        "<a href=\"https://colab.research.google.com/github/WladerRR/DataScience/blob/main/Analisando_os_Dados_do_Airbnb_(Ottawa).ipynb\" target=\"_parent\"><img src=\"https://colab.research.google.com/assets/colab-badge.svg\" alt=\"Open In Colab\"/></a>"
      ]
    },
    {
      "cell_type": "markdown",
      "metadata": {
        "id": "kLI0gJtzDGuQ"
      },
      "source": [
        "<center><img alt=\"Colaboratory logo\" width=\"15%\" src=\"https://raw.githubusercontent.com/carlosfab/escola-data-science/master/img/novo_logo_bg_claro.png\"></center>\n",
        "\n",
        "\n",
        "---\n",
        "###<img alt=\"Colaboratory logo\" src=\"https://imgur.com/J3clVHm.png\">\n",
        "\n",
        "# Análise dos Dados do Airbnb - *Ottawa*\n",
        "<img alt=\"@Chalex95/Unsplash\" width=\"50%\" src=\"https://images.unsplash.com/photo-1569681157442-5eabf7fe850e?ixid=MXwxMjA3fDB8MHxwaG90by1wYWdlfHx8fGVufDB8fHw%3D&ixlib=rb-1.2.1&auto=format&fit=crop&w=1352&q=80\"> \n",
        "\n",
        "*Photo by @Chalex95/Unsplash*\n",
        "\n",
        "\n",
        "\n",
        "Ottawa é a capital do Canadá, localizada na província de Ontário (sudeste do país), perto da cidade de Montreal e da fronteira com os Estados Unidos. Às margens do rio Ottawa, a cidade abriga a Colina do Parlamento, com sua incrível arquitetura vitoriana, e museus como a National Gallery do Canadá, que exibe coleções indígenas e outras obras de arte do país. O canal Rideau, ao lado de um parque, fica repleto de barcos no verão e de patinadores no inverno. ― Google\n",
        "\n",
        "O [Airbnb](https://www.airbnb.com.br/) já é considerado como sendo a **maior empresa hoteleira da atualidade**. Ah, o detalhe é que ele **não possui nenhum hotel**!\n",
        "\n",
        "Conectando pessoas que querem viajar (e se hospedar) com anfitriões que querem alugar seus imóveis de maneira prática, o Airbnb fornece uma plataforma inovadora para tornar essa hospedagem alternativa.\n",
        "\n",
        "No final de 2018, a Startup fundada 10 anos atrás, já havia **hospedado mais de 300 milhões** de pessoas ao redor de todo o mundo, desafiando as redes hoteleiras tradicionais.\n",
        "\n",
        "Uma das iniciativas do Airbnb é disponibilizar dados do site, para algumas das principais cidades do mundo. Por meio do portal [Inside Airbnb](http://insideairbnb.com/get-the-data.html), é possível baixar uma grande quantidade de dados para desenvolver projetos e soluções de *Data Science*.\n",
        "\n",
        "<center><img alt=\"Analisando Airbnb\" width=\"10%\" src=\"https://www.area360.com.au/wp-content/uploads/2017/09/airbnb-logo.jpg\"></center>\n",
        "\n",
        "**Neste *notebook*, iremos analisar os dados referentes à cidade Ottawa, e ver quais insights podem ser extraídos a partir de dados brutos.**\n",
        "\n",
        "\n"
      ]
    },
    {
      "cell_type": "markdown",
      "metadata": {
        "id": "0zxQHhIUDF_2"
      },
      "source": [
        "## Obtenção dos Dados\n",
        "Todos os dados usados para análise foram obtidos a partir do site [Inside Airbnb](http://insideairbnb.com/get-the-data.html).  \n",
        "\n",
        "Por ser um projeto de análise exploratória inicial, apenas o seguinte arquivo será baixado:\n",
        "* `listings.csv` - \tSummary information and metrics for listings in Ottawa (good for visualisations)."
      ]
    },
    {
      "cell_type": "code",
      "metadata": {
        "id": "Vhp2wMPgJ6zX"
      },
      "source": [
        "# importar os pacotes necessarios\n",
        "import pandas as pd\n",
        "import matplotlib.pyplot as plt\n",
        "import seaborn as sns\n",
        "\n",
        "%matplotlib inline"
      ],
      "execution_count": null,
      "outputs": []
    },
    {
      "cell_type": "code",
      "metadata": {
        "id": "tUmoAT8DLQ5T"
      },
      "source": [
        "# importar o arquivo listings.csv para um DataFrame\n",
        "df = pd.read_csv(\"http://data.insideairbnb.com/canada/on/ottawa/2020-12-20/visualisations/listings.csv\")"
      ],
      "execution_count": null,
      "outputs": []
    },
    {
      "cell_type": "markdown",
      "metadata": {
        "id": "qb5By2nIMS6m"
      },
      "source": [
        "## Análise dos Dados\n"
      ]
    },
    {
      "cell_type": "markdown",
      "metadata": {
        "id": "N9MwUa7ouid1"
      },
      "source": [
        ""
      ]
    },
    {
      "cell_type": "code",
      "metadata": {
        "id": "GALspp5v9tPn"
      },
      "source": [
        ""
      ],
      "execution_count": null,
      "outputs": []
    },
    {
      "cell_type": "markdown",
      "metadata": {
        "id": "RYgvuebKNg8-"
      },
      "source": [
        "**Dicionário das variáveis**\n",
        "\n",
        "* `id` - Número de id gerado para identificar o imóvel\n",
        "* `name` - Nome da propriedade anunciada\n",
        "* `host_id` - Número de id do proprietário (anfitrião) da propriedade\n",
        "* `host_name` - Nome do anfitrião\n",
        "* `neighbourhood_group` - Esta coluna não contém nenhum valor válido\n",
        "* `neighbourhood` - Nome do bairro\n",
        "* `latitude` - Coordenada da latitude da propriedade\n",
        "* `longitude` - Coordenada da longitude da propriedade\n",
        "* `room_type` - Informa o tipo de quarto que é oferecido\n",
        "* `price` - Preço para alugar o imóvel\n",
        "* `minimum_nights` - Quantidade mínima de noites para reservar\n",
        "* `number_of_reviews` - Número de reviews que a propriedade possui\n",
        "* `last_review` - Data do último review\n",
        "* `reviews_per_month` - Quantidade de reviews por mês\n",
        "* `calculated_host_listings_count` - Quantidade de imóveis do mesmo anfitrião\n",
        "* `availability_365` - Número de dias de disponibilidade dentro de 365 dias\n",
        "\n",
        "Antes de iniciar qualquer análise, vamos verificar a cara do nosso *dataset*, analisando as 5 primeiras entradas."
      ]
    },
    {
      "cell_type": "code",
      "metadata": {
        "id": "2iS_dae7YQtO",
        "colab": {
          "base_uri": "https://localhost:8080/",
          "height": 326
        },
        "outputId": "151bd21b-e0e8-453f-eef1-26fbd2fda654"
      },
      "source": [
        "# mostrar as 5 primeiras entradas\n",
        "df.head()"
      ],
      "execution_count": null,
      "outputs": [
        {
          "output_type": "execute_result",
          "data": {
            "text/html": [
              "<div>\n",
              "<style scoped>\n",
              "    .dataframe tbody tr th:only-of-type {\n",
              "        vertical-align: middle;\n",
              "    }\n",
              "\n",
              "    .dataframe tbody tr th {\n",
              "        vertical-align: top;\n",
              "    }\n",
              "\n",
              "    .dataframe thead th {\n",
              "        text-align: right;\n",
              "    }\n",
              "</style>\n",
              "<table border=\"1\" class=\"dataframe\">\n",
              "  <thead>\n",
              "    <tr style=\"text-align: right;\">\n",
              "      <th></th>\n",
              "      <th>id</th>\n",
              "      <th>name</th>\n",
              "      <th>host_id</th>\n",
              "      <th>host_name</th>\n",
              "      <th>neighbourhood_group</th>\n",
              "      <th>neighbourhood</th>\n",
              "      <th>latitude</th>\n",
              "      <th>longitude</th>\n",
              "      <th>room_type</th>\n",
              "      <th>price</th>\n",
              "      <th>minimum_nights</th>\n",
              "      <th>number_of_reviews</th>\n",
              "      <th>last_review</th>\n",
              "      <th>reviews_per_month</th>\n",
              "      <th>calculated_host_listings_count</th>\n",
              "      <th>availability_365</th>\n",
              "    </tr>\n",
              "  </thead>\n",
              "  <tbody>\n",
              "    <tr>\n",
              "      <th>0</th>\n",
              "      <td>34220</td>\n",
              "      <td>Room available</td>\n",
              "      <td>147438</td>\n",
              "      <td>Mark</td>\n",
              "      <td>NaN</td>\n",
              "      <td>Capital</td>\n",
              "      <td>45.40924</td>\n",
              "      <td>-75.67900</td>\n",
              "      <td>Private room</td>\n",
              "      <td>202</td>\n",
              "      <td>7</td>\n",
              "      <td>0</td>\n",
              "      <td>NaN</td>\n",
              "      <td>NaN</td>\n",
              "      <td>1</td>\n",
              "      <td>0</td>\n",
              "    </tr>\n",
              "    <tr>\n",
              "      <th>1</th>\n",
              "      <td>36642</td>\n",
              "      <td>City Conveniences A Country Setting</td>\n",
              "      <td>157787</td>\n",
              "      <td>Donna</td>\n",
              "      <td>NaN</td>\n",
              "      <td>Kitchissippi</td>\n",
              "      <td>45.40159</td>\n",
              "      <td>-75.74679</td>\n",
              "      <td>Private room</td>\n",
              "      <td>65</td>\n",
              "      <td>3</td>\n",
              "      <td>87</td>\n",
              "      <td>2020-02-17</td>\n",
              "      <td>0.68</td>\n",
              "      <td>1</td>\n",
              "      <td>233</td>\n",
              "    </tr>\n",
              "    <tr>\n",
              "      <th>2</th>\n",
              "      <td>59258</td>\n",
              "      <td>Lower level of my house to rent</td>\n",
              "      <td>284351</td>\n",
              "      <td>Elena</td>\n",
              "      <td>NaN</td>\n",
              "      <td>Bay</td>\n",
              "      <td>45.35900</td>\n",
              "      <td>-75.80314</td>\n",
              "      <td>Entire home/apt</td>\n",
              "      <td>200</td>\n",
              "      <td>3</td>\n",
              "      <td>1</td>\n",
              "      <td>2011-07-04</td>\n",
              "      <td>0.01</td>\n",
              "      <td>1</td>\n",
              "      <td>0</td>\n",
              "    </tr>\n",
              "    <tr>\n",
              "      <th>3</th>\n",
              "      <td>158824</td>\n",
              "      <td>DOWNTOWN/GLEBE HOUSE WITH BACKYARD</td>\n",
              "      <td>87296</td>\n",
              "      <td>Luc</td>\n",
              "      <td>NaN</td>\n",
              "      <td>Capital</td>\n",
              "      <td>45.40248</td>\n",
              "      <td>-75.69941</td>\n",
              "      <td>Entire home/apt</td>\n",
              "      <td>140</td>\n",
              "      <td>3</td>\n",
              "      <td>7</td>\n",
              "      <td>2015-08-30</td>\n",
              "      <td>0.06</td>\n",
              "      <td>1</td>\n",
              "      <td>0</td>\n",
              "    </tr>\n",
              "    <tr>\n",
              "      <th>4</th>\n",
              "      <td>261065</td>\n",
              "      <td>Westboro Village Executive Suite</td>\n",
              "      <td>1369632</td>\n",
              "      <td>Glenn</td>\n",
              "      <td>NaN</td>\n",
              "      <td>Kitchissippi</td>\n",
              "      <td>45.38972</td>\n",
              "      <td>-75.75496</td>\n",
              "      <td>Entire home/apt</td>\n",
              "      <td>150</td>\n",
              "      <td>3</td>\n",
              "      <td>64</td>\n",
              "      <td>2020-10-19</td>\n",
              "      <td>0.58</td>\n",
              "      <td>1</td>\n",
              "      <td>322</td>\n",
              "    </tr>\n",
              "  </tbody>\n",
              "</table>\n",
              "</div>"
            ],
            "text/plain": [
              "       id  ... availability_365\n",
              "0   34220  ...                0\n",
              "1   36642  ...              233\n",
              "2   59258  ...                0\n",
              "3  158824  ...                0\n",
              "4  261065  ...              322\n",
              "\n",
              "[5 rows x 16 columns]"
            ]
          },
          "metadata": {
            "tags": []
          },
          "execution_count": 29
        }
      ]
    },
    {
      "cell_type": "markdown",
      "metadata": {
        "id": "6-B_qtEaYEd-"
      },
      "source": [
        "### **Q1. Quantos atributos (variáveis) e quantas entradas o nosso conjunto de dados possui? Quais os tipos das variáveis?**\r\n",
        "\r\n",
        "Vamos prosseguir e verificar a quantidade de entradas e tipos de colunas que nosso dataset possui.\r\n",
        "\r\n",
        "Este dataset que baixamos é a versão \"resumida\" do Airbnb. Na mesma página que baixamos o arquivo `listings.csv`.\r\n"
      ]
    },
    {
      "cell_type": "code",
      "metadata": {
        "id": "TFRK0tniLV-G",
        "colab": {
          "base_uri": "https://localhost:8080/",
          "height": 357
        },
        "outputId": "df1eea48-a0c6-4eb4-fb9f-884005181096"
      },
      "source": [
        "# Identificando o volume de dados do DataFrame\n",
        "\n",
        "print(\"Entradas: \\t {}\" .format(df.shape[0]))\n",
        "print(\"Variáveis: \\t {} \\n\" .format(df.shape[1]))\n",
        "\n",
        "# Verificando as 5 primeiras entradas do dataset\n",
        "\n",
        "display(df.dtypes)\n"
      ],
      "execution_count": null,
      "outputs": [
        {
          "output_type": "stream",
          "text": [
            "Entradas: \t 2693\n",
            "Variáveis: \t 16 \n",
            "\n"
          ],
          "name": "stdout"
        },
        {
          "output_type": "display_data",
          "data": {
            "text/plain": [
              "id                                  int64\n",
              "name                               object\n",
              "host_id                             int64\n",
              "host_name                          object\n",
              "neighbourhood_group               float64\n",
              "neighbourhood                      object\n",
              "latitude                          float64\n",
              "longitude                         float64\n",
              "room_type                          object\n",
              "price                               int64\n",
              "minimum_nights                      int64\n",
              "number_of_reviews                   int64\n",
              "last_review                        object\n",
              "reviews_per_month                 float64\n",
              "calculated_host_listings_count      int64\n",
              "availability_365                    int64\n",
              "dtype: object"
            ]
          },
          "metadata": {
            "tags": []
          }
        }
      ]
    },
    {
      "cell_type": "markdown",
      "metadata": {
        "id": "yz1urSUGW9iE"
      },
      "source": [
        "### **Q2. Qual a porcentagem de valores ausentes (NaN) no *dataset*?**\r\n",
        "\r\n",
        "A qualidade de um *dataset* está diretamente relacionada à quantidade de valores ausentes. É importante entender logo no início se esses valores nulos são significativos comparados ao total de entradas.\r\n",
        "\r\n",
        "* É possível ver que a coluna `neighbourhood_group` possui 100% dos seus valores faltantes. \r\n",
        "* As variáveis `reviews_per_month` e `last_review` possuem valores nulos em quase aproximadamente 17% das linhas.\r\n",
        "* As demais variáveis não possuem valores nulos."
      ]
    },
    {
      "cell_type": "code",
      "metadata": {
        "id": "plk2FjbCXOqP",
        "colab": {
          "base_uri": "https://localhost:8080/"
        },
        "outputId": "4a9e23cf-630e-4f91-e11f-f9febb07ad95"
      },
      "source": [
        "# ordenar em ordem decrescente as variáveis por seus valores ausentes\n",
        "(df.isnull().sum() / df.shape[0]).sort_values(ascending = False)"
      ],
      "execution_count": 103,
      "outputs": [
        {
          "output_type": "execute_result",
          "data": {
            "text/plain": [
              "neighbourhood_group               1.000000\n",
              "reviews_per_month                 0.166729\n",
              "last_review                       0.166729\n",
              "availability_365                  0.000000\n",
              "calculated_host_listings_count    0.000000\n",
              "number_of_reviews                 0.000000\n",
              "minimum_nights                    0.000000\n",
              "price                             0.000000\n",
              "room_type                         0.000000\n",
              "longitude                         0.000000\n",
              "latitude                          0.000000\n",
              "neighbourhood                     0.000000\n",
              "host_name                         0.000000\n",
              "host_id                           0.000000\n",
              "name                              0.000000\n",
              "id                                0.000000\n",
              "dtype: float64"
            ]
          },
          "metadata": {
            "tags": []
          },
          "execution_count": 103
        }
      ]
    },
    {
      "cell_type": "markdown",
      "metadata": {
        "id": "iHXvvHIxaoNc"
      },
      "source": [
        "### **Q3. Qual o tipo de distribuição das variáveis?** \r\n",
        "\r\n",
        "Para identificar a distribuição das variáveis, será plotado um histograma."
      ]
    },
    {
      "cell_type": "code",
      "metadata": {
        "id": "q2wWSfeRbmBo",
        "colab": {
          "base_uri": "https://localhost:8080/",
          "height": 607
        },
        "outputId": "e9a83a38-ae75-4d4f-db15-1bba4be6bbad"
      },
      "source": [
        "# Plotando o histograma das variáveis numéricas\n",
        "df.hist(bins = 15 , figsize= (15,10));"
      ],
      "execution_count": 104,
      "outputs": [
        {
          "output_type": "display_data",
          "data": {
            "image/png": "[encoded data removed]",
            "text/plain": [
              "<Figure size 1080x720 with 12 Axes>"
            ]
          },
          "metadata": {
            "tags": [],
            "needs_background": "light"
          }
        }
      ]
    },
    {
      "cell_type": "markdown",
      "metadata": {
        "id": "PF9r7F79wW_I"
      },
      "source": [
        "### **Identificando outliers e removendo-os**\r\n",
        "\r\n",
        "Pela distribuição do histograma, é possível verificar indícios da presença de *outliers*. Olhe por exemplo as variáveis `price`, `minimum_nights` e `calculated_host_listings_count`.\r\n",
        "\r\n",
        "Os valores não seguem uma distruição, e distorcem toda a representação gráfica. Para confirmar, há duas maneiras rápidas que auxiliam a detecção de *outliers*. São elas:\r\n",
        "\r\n",
        "* Resumo estatístico por meio do método `describe()`\r\n",
        "* Plotar `boxplots` para a variável."
      ]
    },
    {
      "cell_type": "code",
      "metadata": {
        "colab": {
          "base_uri": "https://localhost:8080/",
          "height": 297
        },
        "id": "aOJSNQUvxWKQ",
        "outputId": "81dafb35-fcb0-4182-fee7-0b923ae46f51"
      },
      "source": [
        "df[['price', 'minimum_nights', 'number_of_reviews', 'reviews_per_month',\r\n",
        "    'calculated_host_listings_count', 'availability_365']].describe()\r\n"
      ],
      "execution_count": null,
      "outputs": [
        {
          "output_type": "execute_result",
          "data": {
            "text/html": [
              "<div>\n",
              "<style scoped>\n",
              "    .dataframe tbody tr th:only-of-type {\n",
              "        vertical-align: middle;\n",
              "    }\n",
              "\n",
              "    .dataframe tbody tr th {\n",
              "        vertical-align: top;\n",
              "    }\n",
              "\n",
              "    .dataframe thead th {\n",
              "        text-align: right;\n",
              "    }\n",
              "</style>\n",
              "<table border=\"1\" class=\"dataframe\">\n",
              "  <thead>\n",
              "    <tr style=\"text-align: right;\">\n",
              "      <th></th>\n",
              "      <th>price</th>\n",
              "      <th>minimum_nights</th>\n",
              "      <th>number_of_reviews</th>\n",
              "      <th>reviews_per_month</th>\n",
              "      <th>calculated_host_listings_count</th>\n",
              "      <th>availability_365</th>\n",
              "    </tr>\n",
              "  </thead>\n",
              "  <tbody>\n",
              "    <tr>\n",
              "      <th>count</th>\n",
              "      <td>2693.000000</td>\n",
              "      <td>2693.000000</td>\n",
              "      <td>2693.000000</td>\n",
              "      <td>2244.000000</td>\n",
              "      <td>2693.000000</td>\n",
              "      <td>2693.000000</td>\n",
              "    </tr>\n",
              "    <tr>\n",
              "      <th>mean</th>\n",
              "      <td>123.658745</td>\n",
              "      <td>10.633866</td>\n",
              "      <td>37.748608</td>\n",
              "      <td>1.588026</td>\n",
              "      <td>6.073153</td>\n",
              "      <td>130.526922</td>\n",
              "    </tr>\n",
              "    <tr>\n",
              "      <th>std</th>\n",
              "      <td>265.285121</td>\n",
              "      <td>47.211150</td>\n",
              "      <td>64.808017</td>\n",
              "      <td>1.773658</td>\n",
              "      <td>14.111536</td>\n",
              "      <td>135.947338</td>\n",
              "    </tr>\n",
              "    <tr>\n",
              "      <th>min</th>\n",
              "      <td>0.000000</td>\n",
              "      <td>1.000000</td>\n",
              "      <td>0.000000</td>\n",
              "      <td>0.010000</td>\n",
              "      <td>1.000000</td>\n",
              "      <td>0.000000</td>\n",
              "    </tr>\n",
              "    <tr>\n",
              "      <th>25%</th>\n",
              "      <td>56.000000</td>\n",
              "      <td>1.000000</td>\n",
              "      <td>2.000000</td>\n",
              "      <td>0.310000</td>\n",
              "      <td>1.000000</td>\n",
              "      <td>0.000000</td>\n",
              "    </tr>\n",
              "    <tr>\n",
              "      <th>50%</th>\n",
              "      <td>85.000000</td>\n",
              "      <td>2.000000</td>\n",
              "      <td>11.000000</td>\n",
              "      <td>0.925000</td>\n",
              "      <td>2.000000</td>\n",
              "      <td>87.000000</td>\n",
              "    </tr>\n",
              "    <tr>\n",
              "      <th>75%</th>\n",
              "      <td>128.000000</td>\n",
              "      <td>5.000000</td>\n",
              "      <td>45.000000</td>\n",
              "      <td>2.252500</td>\n",
              "      <td>3.000000</td>\n",
              "      <td>254.000000</td>\n",
              "    </tr>\n",
              "    <tr>\n",
              "      <th>max</th>\n",
              "      <td>9000.000000</td>\n",
              "      <td>1000.000000</td>\n",
              "      <td>545.000000</td>\n",
              "      <td>9.930000</td>\n",
              "      <td>72.000000</td>\n",
              "      <td>365.000000</td>\n",
              "    </tr>\n",
              "  </tbody>\n",
              "</table>\n",
              "</div>"
            ],
            "text/plain": [
              "             price  ...  availability_365\n",
              "count  2693.000000  ...       2693.000000\n",
              "mean    123.658745  ...        130.526922\n",
              "std     265.285121  ...        135.947338\n",
              "min       0.000000  ...          0.000000\n",
              "25%      56.000000  ...          0.000000\n",
              "50%      85.000000  ...         87.000000\n",
              "75%     128.000000  ...        254.000000\n",
              "max    9000.000000  ...        365.000000\n",
              "\n",
              "[8 rows x 6 columns]"
            ]
          },
          "metadata": {
            "tags": []
          },
          "execution_count": 33
        }
      ]
    },
    {
      "cell_type": "markdown",
      "metadata": {
        "id": "35hArhVexiF3"
      },
      "source": [
        "Olhando o resumo estatístico acima, podemos confirmar algumas hipóteses como:\r\n",
        "\r\n",
        "* A variável `price` possui 75% do valor abaixo de `C$ 128`, porém seu valor máximo é `C$ 9000`.\r\n",
        "* A quantidade mínima de noites (`minimum_nights`) está acima de 365 dias no ano.\r\n",
        "\r\n",
        "\r\n",
        "#### Boxplot para price"
      ]
    },
    {
      "cell_type": "code",
      "metadata": {
        "colab": {
          "base_uri": "https://localhost:8080/",
          "height": 262
        },
        "id": "HyZ7mzNLx0zn",
        "outputId": "21727b89-f5f2-4544-b8c4-df2c29c207d7"
      },
      "source": [
        "df.price.plot(kind='box', vert=False, figsize=(15,3))\r\n",
        "plt.show()\r\n",
        "\r\n",
        "print(\"Valores acima de C$ 1500\")\r\n",
        "print(\"Entradas: {}\" .format(len(df[df.price > 500])))\r\n",
        "print(\"{:.4f}%\" .format((len(df[df.price > 500]) / df.shape[0])*100))"
      ],
      "execution_count": null,
      "outputs": [
        {
          "output_type": "display_data",
          "data": {
            "image/png": "[encoded data removed]",
            "text/plain": [
              "<Figure size 1080x216 with 1 Axes>"
            ]
          },
          "metadata": {
            "tags": [],
            "needs_background": "light"
          }
        },
        {
          "output_type": "stream",
          "text": [
            "Valores acima de C$ 1500\n",
            "Entradas: 37\n",
            "1.3739%\n"
          ],
          "name": "stdout"
        }
      ]
    },
    {
      "cell_type": "markdown",
      "metadata": {
        "id": "Uduy5P_y3-mc"
      },
      "source": [
        "#### Boxplot para minimum_nights\r\n"
      ]
    },
    {
      "cell_type": "code",
      "metadata": {
        "colab": {
          "base_uri": "https://localhost:8080/",
          "height": 262
        },
        "id": "2txwKFHr4HpU",
        "outputId": "0f3abdf4-45dd-4a72-98b4-cfeec0b0a49a"
      },
      "source": [
        "df.minimum_nights.plot(kind='box', vert=False, figsize=(15,3))\r\n",
        "plt.show()\r\n",
        "\r\n",
        "print(\"Valores acima de 30 dias\")\r\n",
        "print(\"Entradas: {}\" .format(len(df[df.minimum_nights > 30])))\r\n",
        "print(\"{:.4f}%\" .format((len(df[df.minimum_nights > 30]) / df.shape[0]) * 100))"
      ],
      "execution_count": null,
      "outputs": [
        {
          "output_type": "display_data",
          "data": {
            "image/png": "[encoded data removed]",
            "text/plain": [
              "<Figure size 1080x216 with 1 Axes>"
            ]
          },
          "metadata": {
            "tags": [],
            "needs_background": "light"
          }
        },
        {
          "output_type": "stream",
          "text": [
            "Valores acima de 30 dias\n",
            "Entradas: 83\n",
            "3.0821%\n"
          ],
          "name": "stdout"
        }
      ]
    },
    {
      "cell_type": "markdown",
      "metadata": {
        "id": "A1TDHvSE4I-E"
      },
      "source": [
        "#### Histogramas sem *outliers*\r\n",
        "\r\n",
        "Já que identificamos *outliers* nas variáveis `price` e `minimum_nights`, vamos agora limpar o *DataFrame* delas e plotar novamente o histograma."
      ]
    },
    {
      "cell_type": "code",
      "metadata": {
        "id": "6d4B0f-91-5T"
      },
      "source": [
        "df_clean = df.copy()\r\n",
        "\r\n",
        "df_clean.drop(df_clean[df_clean.price > 500].index , axis=0, inplace=True)\r\n",
        "\r\n",
        "df_clean.drop(df_clean[df_clean.minimum_nights > 30].index, axis=0, inplace=True)\r\n",
        "\r\n",
        "df_clean.drop('neighbourhood_group', axis=1, inplace=True)"
      ],
      "execution_count": null,
      "outputs": []
    },
    {
      "cell_type": "code",
      "metadata": {
        "colab": {
          "base_uri": "https://localhost:8080/",
          "height": 607
        },
        "id": "DucbXpQV3Qm8",
        "outputId": "07443357-c831-4133-80a2-85032c44e0fb"
      },
      "source": [
        "df_clean.hist(bins = 15 , figsize= (15,10));"
      ],
      "execution_count": null,
      "outputs": [
        {
          "output_type": "display_data",
          "data": {
            "image/png": "[encoded data removed]",
            "text/plain": [
              "<Figure size 1080x720 with 12 Axes>"
            ]
          },
          "metadata": {
            "tags": [],
            "needs_background": "light"
          }
        }
      ]
    },
    {
      "cell_type": "markdown",
      "metadata": {
        "id": "7x4aw1j5wNmn"
      },
      "source": [
        "### **Q4. Qual a média dos preços de aluguel?**"
      ]
    },
    {
      "cell_type": "code",
      "metadata": {
        "id": "ff-8gUahLk-C",
        "colab": {
          "base_uri": "https://localhost:8080/"
        },
        "outputId": "f4230acb-5dd2-4269-e05d-ef48e776bd42"
      },
      "source": [
        "# ver a média da coluna `price``\n",
        "\n",
        "print(\"A média de preços é : C$ {:.4f}\" .format(df_clean['price'].mean()))\n"
      ],
      "execution_count": null,
      "outputs": [
        {
          "output_type": "stream",
          "text": [
            "A média de preços é : C$ 104.1381\n"
          ],
          "name": "stdout"
        }
      ]
    },
    {
      "cell_type": "markdown",
      "metadata": {
        "id": "IXn2oIo5qx-w"
      },
      "source": [
        "### **Q4. Qual a correlação existente entre as variáveis**\r\n",
        "\r\n",
        "Correlação significa que existe uma relação entre duas coisas. No nosso contexto, estamos buscando relação ou semelhança entre duas variáveis.\r\n",
        "\r\n",
        "Essa relação pode ser medida, e é função do coeficiente de correlação estabelecer qual a intensidade dela. Para identificar as correlações existentes entre as variáveis de interesse, vou:\r\n",
        "\r\n",
        "* Criar uma matriz de correlação\r\n",
        "* Gerar um *heatmap* a partir dessa matriz, usando a biblioteca `seaborn`"
      ]
    },
    {
      "cell_type": "code",
      "metadata": {
        "id": "x2ayzBajqxyd",
        "colab": {
          "base_uri": "https://localhost:8080/",
          "height": 235
        },
        "outputId": "f4574f76-87b3-4a6c-d44c-23a042790009"
      },
      "source": [
        "# criar uma matriz de correlação\n",
        "\n",
        "corr = df_clean[['price','minimum_nights','number_of_reviews','reviews_per_month','calculated_host_listings_count', 'availability_365']].corr()\n",
        "\n",
        "# mostrar a matriz de correlação\n",
        "\n",
        "display(corr)\n"
      ],
      "execution_count": null,
      "outputs": [
        {
          "output_type": "display_data",
          "data": {
            "text/html": [
              "<div>\n",
              "<style scoped>\n",
              "    .dataframe tbody tr th:only-of-type {\n",
              "        vertical-align: middle;\n",
              "    }\n",
              "\n",
              "    .dataframe tbody tr th {\n",
              "        vertical-align: top;\n",
              "    }\n",
              "\n",
              "    .dataframe thead th {\n",
              "        text-align: right;\n",
              "    }\n",
              "</style>\n",
              "<table border=\"1\" class=\"dataframe\">\n",
              "  <thead>\n",
              "    <tr style=\"text-align: right;\">\n",
              "      <th></th>\n",
              "      <th>price</th>\n",
              "      <th>minimum_nights</th>\n",
              "      <th>number_of_reviews</th>\n",
              "      <th>reviews_per_month</th>\n",
              "      <th>calculated_host_listings_count</th>\n",
              "      <th>availability_365</th>\n",
              "    </tr>\n",
              "  </thead>\n",
              "  <tbody>\n",
              "    <tr>\n",
              "      <th>price</th>\n",
              "      <td>1.000000</td>\n",
              "      <td>0.036862</td>\n",
              "      <td>-0.042316</td>\n",
              "      <td>-0.044133</td>\n",
              "      <td>0.041998</td>\n",
              "      <td>0.041061</td>\n",
              "    </tr>\n",
              "    <tr>\n",
              "      <th>minimum_nights</th>\n",
              "      <td>0.036862</td>\n",
              "      <td>1.000000</td>\n",
              "      <td>-0.096876</td>\n",
              "      <td>-0.156767</td>\n",
              "      <td>0.238519</td>\n",
              "      <td>0.077019</td>\n",
              "    </tr>\n",
              "    <tr>\n",
              "      <th>number_of_reviews</th>\n",
              "      <td>-0.042316</td>\n",
              "      <td>-0.096876</td>\n",
              "      <td>1.000000</td>\n",
              "      <td>0.750815</td>\n",
              "      <td>-0.061315</td>\n",
              "      <td>0.042811</td>\n",
              "    </tr>\n",
              "    <tr>\n",
              "      <th>reviews_per_month</th>\n",
              "      <td>-0.044133</td>\n",
              "      <td>-0.156767</td>\n",
              "      <td>0.750815</td>\n",
              "      <td>1.000000</td>\n",
              "      <td>0.061517</td>\n",
              "      <td>0.140381</td>\n",
              "    </tr>\n",
              "    <tr>\n",
              "      <th>calculated_host_listings_count</th>\n",
              "      <td>0.041998</td>\n",
              "      <td>0.238519</td>\n",
              "      <td>-0.061315</td>\n",
              "      <td>0.061517</td>\n",
              "      <td>1.000000</td>\n",
              "      <td>0.013100</td>\n",
              "    </tr>\n",
              "    <tr>\n",
              "      <th>availability_365</th>\n",
              "      <td>0.041061</td>\n",
              "      <td>0.077019</td>\n",
              "      <td>0.042811</td>\n",
              "      <td>0.140381</td>\n",
              "      <td>0.013100</td>\n",
              "      <td>1.000000</td>\n",
              "    </tr>\n",
              "  </tbody>\n",
              "</table>\n",
              "</div>"
            ],
            "text/plain": [
              "                                   price  ...  availability_365\n",
              "price                           1.000000  ...          0.041061\n",
              "minimum_nights                  0.036862  ...          0.077019\n",
              "number_of_reviews              -0.042316  ...          0.042811\n",
              "reviews_per_month              -0.044133  ...          0.140381\n",
              "calculated_host_listings_count  0.041998  ...          0.013100\n",
              "availability_365                0.041061  ...          1.000000\n",
              "\n",
              "[6 rows x 6 columns]"
            ]
          },
          "metadata": {
            "tags": []
          }
        }
      ]
    },
    {
      "cell_type": "code",
      "metadata": {
        "id": "91UujDr6ueqE",
        "colab": {
          "base_uri": "https://localhost:8080/",
          "height": 411
        },
        "outputId": "278eb5a3-375e-4d68-997e-71631d99f5cf"
      },
      "source": [
        "# plotar um heatmap a partir das correlações\n",
        "\n",
        "sns.heatmap(corr, cmap='RdBu', fmt='.2f', square=True, linecolor='white', annot=True);"
      ],
      "execution_count": null,
      "outputs": [
        {
          "output_type": "display_data",
          "data": {
            "image/png": "[encoded data removed]",
            "text/plain": [
              "<Figure size 432x288 with 2 Axes>"
            ]
          },
          "metadata": {
            "tags": [],
            "needs_background": "light"
          }
        }
      ]
    },
    {
      "cell_type": "markdown",
      "metadata": {
        "id": "7b6RMWpuHKN-"
      },
      "source": [
        "### **Q5. Qual o tipo de imóvel mais alugado no Airbnb?**\r\n",
        "\r\n",
        "A coluna da variável `room_type` indica o tipo de locação que está anunciada no Airbnb. Se você já alugou no site, sabe que existem opções de apartamentos/casas inteiras, apenas o aluguel de um quarto ou mesmo dividir o quarto com outras pessoas.\r\n",
        "\r\n",
        "Vamos contar a quantidade de ocorrências de cada tipo de aluguel, usando o método `value_counts()`."
      ]
    },
    {
      "cell_type": "code",
      "metadata": {
        "id": "ueLPNWvPHgfB",
        "colab": {
          "base_uri": "https://localhost:8080/"
        },
        "outputId": "aef2d8bd-d25a-4580-db87-d760aaa43dd2"
      },
      "source": [
        "# mostrar a quantidade de cada tipo de imóvel disponível\n",
        "\n",
        "df_clean.room_type.value_counts()"
      ],
      "execution_count": null,
      "outputs": [
        {
          "output_type": "execute_result",
          "data": {
            "text/plain": [
              "Entire home/apt    1530\n",
              "Private room       1020\n",
              "Shared room          22\n",
              "Hotel room            6\n",
              "Name: room_type, dtype: int64"
            ]
          },
          "metadata": {
            "tags": []
          },
          "execution_count": 41
        }
      ]
    },
    {
      "cell_type": "code",
      "metadata": {
        "id": "EvwoO-XAHhIm",
        "colab": {
          "base_uri": "https://localhost:8080/"
        },
        "outputId": "bfee3c05-6482-49a8-d72f-c05ef72c5348"
      },
      "source": [
        "# mostrar a porcentagem de cada tipo de imóvel disponível\n",
        "\n",
        "df_clean.room_type.value_counts() / df_clean.shape[0]"
      ],
      "execution_count": null,
      "outputs": [
        {
          "output_type": "execute_result",
          "data": {
            "text/plain": [
              "Entire home/apt    0.593483\n",
              "Private room       0.395656\n",
              "Shared room        0.008534\n",
              "Hotel room         0.002327\n",
              "Name: room_type, dtype: float64"
            ]
          },
          "metadata": {
            "tags": []
          },
          "execution_count": 42
        }
      ]
    },
    {
      "cell_type": "markdown",
      "metadata": {
        "id": "MFa5NbnLJMcd"
      },
      "source": [
        "### **Q6. Qual a localidade mais cara de Ottawa?**\n",
        "\n",
        "Uma maneira de se verificar uma variável em função da outra é usando `groupby()`. No caso, queremos comparar os bairros (*neighbourhoods*) a partir do preço de locação.\n"
      ]
    },
    {
      "cell_type": "code",
      "metadata": {
        "id": "MD_xa143JZpi",
        "colab": {
          "base_uri": "https://localhost:8080/"
        },
        "outputId": "4f583802-2e9a-4450-c695-7b4260e226ca"
      },
      "source": [
        "# ver preços por bairros, na média\n",
        "df_clean.groupby(['neighbourhood']).price.mean().sort_values(ascending=False)[:60]"
      ],
      "execution_count": null,
      "outputs": [
        {
          "output_type": "execute_result",
          "data": {
            "text/plain": [
              "neighbourhood\n",
              "West Carleton-March        163.326087\n",
              "Kitchissippi               125.750000\n",
              "Capital                    119.210227\n",
              "Rideau-Goulbourn           115.227273\n",
              "Somerset                   111.126027\n",
              "Rideau-Vanier              107.386318\n",
              "Bay                        102.607595\n",
              "College                     99.886598\n",
              "River                       99.685484\n",
              "Alta Vista                  98.676768\n",
              "Gloucester-South Nepean     98.216216\n",
              "Osgoode                     97.458333\n",
              "Kanata South                96.981818\n",
              "Rideau-Rockcliffe           96.804688\n",
              "Knoxdale-Merivale           96.300000\n",
              "Barrhaven                   94.907407\n",
              "Cumberland                  93.738462\n",
              "Stittsville-Kanata West     91.388889\n",
              "Kanata North                85.247525\n",
              "Orleans                     83.339286\n",
              "Beacon Hill-Cyrville        81.323077\n",
              "Gloucester-Southgate        78.083333\n",
              "Innes                       69.216216\n",
              "Name: price, dtype: float64"
            ]
          },
          "metadata": {
            "tags": []
          },
          "execution_count": 87
        }
      ]
    },
    {
      "cell_type": "code",
      "metadata": {
        "colab": {
          "base_uri": "https://localhost:8080/"
        },
        "id": "WNiW419bWnAr",
        "outputId": "9ca63f50-f873-452e-ac3d-c30fda3de2fd"
      },
      "source": [
        "# ver quantidade de imóveis por bairros\r\n",
        "df_clean.neighbourhood.value_counts().sort_values(ascending=True)[:10]"
      ],
      "execution_count": null,
      "outputs": [
        {
          "output_type": "execute_result",
          "data": {
            "text/plain": [
              "Osgoode                    24\n",
              "Innes                      37\n",
              "Rideau-Goulbourn           44\n",
              "West Carleton-March        46\n",
              "Stittsville-Kanata West    54\n",
              "Barrhaven                  54\n",
              "Kanata South               55\n",
              "Orleans                    56\n",
              "Cumberland                 65\n",
              "Beacon Hill-Cyrville       65\n",
              "Name: neighbourhood, dtype: int64"
            ]
          },
          "metadata": {
            "tags": []
          },
          "execution_count": 44
        }
      ]
    },
    {
      "cell_type": "markdown",
      "metadata": {
        "id": "usePZ-oaRbhQ"
      },
      "source": [
        "Acima, vemos que bairros como West Carleton-March, Kitchissippi  e Capital, estão com média de preço superior a de lugares como Rideau-Vanier e Somerset e Alta Vista.\r\n",
        "\r\n",
        "Verificando a quantidade de imóveis por bairros, percebemos que embora West Carleton-March seja o bairro mais caro, possui menos imóveis para se alugar que Rideau-Vanier como exemplificado abaixo:\r\n",
        "\r\n",
        "\r\n",
        "\r\n"
      ]
    },
    {
      "cell_type": "code",
      "metadata": {
        "colab": {
          "base_uri": "https://localhost:8080/"
        },
        "id": "XnmKccLRURkK",
        "outputId": "065e3d84-6ccb-46f3-ca00-3520f2a9ddd3"
      },
      "source": [
        "# ver quantidade de imóveis em West Carleton-March\r\n",
        "print(\"Quantidade de imóveis em West Carleton-March: {}\" .format(df_clean[df_clean.neighbourhood == \"West Carleton-March\"].shape[0]))\r\n",
        "\r\n",
        "# ver quantidade de imóveis em Rideau-Vanier\r\n",
        "print(\"Quantidade de imóveis em Rideau-Vanier: {}\" .format(df_clean[df_clean.neighbourhood == \"Rideau-Vanier\"].shape[0]))\r\n",
        "\r\n",
        "print(\"\\n \\t A quantidade de imóveis em Rideau-Vanier é {:.1f} vezes superior à em West Carleton-March\" .format((df_clean[df_clean.neighbourhood == \"Rideau-Vanier\"].shape[0] / df_clean[df_clean.neighbourhood == \"West Carleton-March\"].shape[0])))\r\n"
      ],
      "execution_count": null,
      "outputs": [
        {
          "output_type": "stream",
          "text": [
            "Quantidade de imóveis em West Carleton-March: 46\n",
            "Quantidade de imóveis em Rideau-Vanier: 497\n",
            "\n",
            " \t A quantidade de imóveis em Rideau-Vanier é 10.8 vezes superior à em West Carleton-March\n"
          ],
          "name": "stdout"
        }
      ]
    },
    {
      "cell_type": "code",
      "metadata": {
        "id": "UxVJqJ_3W59I",
        "colab": {
          "base_uri": "https://localhost:8080/",
          "height": 476
        },
        "outputId": "9affdb2b-22d5-48bd-c0b8-a9ddfe8ae6df"
      },
      "source": [
        "# plotar os imóveis pela latitude-longitude\n",
        "\n",
        "df_clean.plot(kind=\"scatter\", x='longitude', y='latitude', alpha=0.9, c=df_clean['price'], s=12,\n",
        "              cmap=plt.get_cmap('jet'), figsize=(12,8));"
      ],
      "execution_count": null,
      "outputs": [
        {
          "output_type": "display_data",
          "data": {
            "image/png": "[encoded data removed]",
            "text/plain": [
              "<Figure size 864x576 with 2 Axes>"
            ]
          },
          "metadata": {
            "tags": [],
            "needs_background": "light"
          }
        }
      ]
    },
    {
      "cell_type": "markdown",
      "metadata": {
        "id": "vTneAMRUYvr1"
      },
      "source": [
        "### **Q7. Qual é a média do mínimo de noites para aluguel (minimum_nights)?**"
      ]
    },
    {
      "cell_type": "code",
      "metadata": {
        "id": "_VzNhrEgY82N",
        "colab": {
          "base_uri": "https://localhost:8080/"
        },
        "outputId": "62924041-4fd7-4eb2-d991-d1a99f93fd7e"
      },
      "source": [
        "# ver a média da coluna `minimum_nights``\r\n",
        "\r\n",
        "df_clean.minimum_nights.mean()\r\n"
      ],
      "execution_count": null,
      "outputs": [
        {
          "output_type": "execute_result",
          "data": {
            "text/plain": [
              "5.268037238169123"
            ]
          },
          "metadata": {
            "tags": []
          },
          "execution_count": 47
        }
      ]
    },
    {
      "cell_type": "markdown",
      "metadata": {
        "id": "GkvAg623RjoR"
      },
      "source": [
        "## Conclusões\n",
        "\n",
        "Foi feita apenas uma análise superficial na base de dados do Airbnb, porém já se percebeu que existem *outliers* em algumas das variáveis. \n",
        "\n",
        "Também notou-se que alguns lugares possuem grande disparidade em quantidades de imóveis que outros.\n",
        "\n",
        "Por fim, lembra-se que este *dataset* é uma versão resumida, ideal apenas para uma abordagem inicial. Para se fazer uma análise exploratória aprofundada, deve-se utilizar o conjunto de dados completos para a cidade de Ottawa - \t[*Detailed Listings data for Ottawa* - `listings.csv.gz`](http://data.insideairbnb.com/canada/on/ottawa/2020-12-20/data/listings.csv.gz)."
      ]
    }
  ]
}